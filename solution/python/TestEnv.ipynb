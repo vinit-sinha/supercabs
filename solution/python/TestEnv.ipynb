{
 "cells": [
  {
   "cell_type": "code",
   "execution_count": 1,
   "id": "a7f7d1c8-ea02-44c1-809c-b151ab45e3d4",
   "metadata": {},
   "outputs": [],
   "source": [
    "from Env import CabDriver"
   ]
  },
  {
   "cell_type": "code",
   "execution_count": 2,
   "id": "4ea11bd7-ac6d-44b6-8ad6-07c20dd3a8a2",
   "metadata": {},
   "outputs": [],
   "source": [
    "cd = CabDriver()"
   ]
  },
  {
   "cell_type": "code",
   "execution_count": 3,
   "id": "dcfb2aed-ca12-46d2-a842-0cc7782235ea",
   "metadata": {},
   "outputs": [],
   "source": [
    "#cd.state_space"
   ]
  },
  {
   "cell_type": "code",
   "execution_count": 4,
   "id": "32500361-29bc-4580-bdbf-91f972eb9fdf",
   "metadata": {},
   "outputs": [
    {
     "data": {
      "text/plain": [
       "(1, 3, 1)"
      ]
     },
     "execution_count": 4,
     "metadata": {},
     "output_type": "execute_result"
    }
   ],
   "source": [
    "init_state = cd.state_init\n",
    "init_state"
   ]
  },
  {
   "cell_type": "code",
   "execution_count": 5,
   "id": "e77c4560-7640-4a9b-81ae-981bc92b9acd",
   "metadata": {},
   "outputs": [
    {
     "data": {
      "text/plain": [
       "([6], [(2, 2), [0, 0]])"
      ]
     },
     "execution_count": 5,
     "metadata": {},
     "output_type": "execute_result"
    }
   ],
   "source": [
    "\n",
    "cd.requests(init_state)"
   ]
  },
  {
   "cell_type": "code",
   "execution_count": null,
   "id": "601f5eca-bceb-4baa-9ca7-ccc30459b528",
   "metadata": {},
   "outputs": [],
   "source": []
  }
 ],
 "metadata": {
  "kernelspec": {
   "display_name": "Python 3 (ipykernel)",
   "language": "python",
   "name": "python3"
  },
  "language_info": {
   "codemirror_mode": {
    "name": "ipython",
    "version": 3
   },
   "file_extension": ".py",
   "mimetype": "text/x-python",
   "name": "python",
   "nbconvert_exporter": "python",
   "pygments_lexer": "ipython3",
   "version": "3.9.6"
  }
 },
 "nbformat": 4,
 "nbformat_minor": 5
}
