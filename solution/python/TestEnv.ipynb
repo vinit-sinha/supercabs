{
 "cells": [
  {
   "cell_type": "code",
   "execution_count": 1,
   "id": "a7f7d1c8-ea02-44c1-809c-b151ab45e3d4",
   "metadata": {},
   "outputs": [],
   "source": [
    "import numpy as np\n",
    "from Env import CabDriver"
   ]
  },
  {
   "cell_type": "code",
   "execution_count": 2,
   "id": "4ea11bd7-ac6d-44b6-8ad6-07c20dd3a8a2",
   "metadata": {},
   "outputs": [],
   "source": [
    "time_matrix = np.load('TM.npy')\n",
    "cd = CabDriver(time_matrix)"
   ]
  },
  {
   "cell_type": "code",
   "execution_count": 3,
   "id": "dcfb2aed-ca12-46d2-a842-0cc7782235ea",
   "metadata": {},
   "outputs": [],
   "source": [
    "#cd.state_space"
   ]
  },
  {
   "cell_type": "code",
   "execution_count": 4,
   "id": "32500361-29bc-4580-bdbf-91f972eb9fdf",
   "metadata": {},
   "outputs": [
    {
     "data": {
      "text/plain": [
       "(3, 9, 6)"
      ]
     },
     "execution_count": 4,
     "metadata": {},
     "output_type": "execute_result"
    }
   ],
   "source": [
    "init_state = cd.state_init\n",
    "init_state"
   ]
  },
  {
   "cell_type": "code",
   "execution_count": 5,
   "id": "e77c4560-7640-4a9b-81ae-981bc92b9acd",
   "metadata": {},
   "outputs": [
    {
     "ename": "NameError",
     "evalue": "name 'np' is not defined",
     "output_type": "error",
     "traceback": [
      "\u001b[0;31m---------------------------------------------------------------------------\u001b[0m",
      "\u001b[0;31mNameError\u001b[0m                                 Traceback (most recent call last)",
      "\u001b[0;32m/var/folders/4s/8z4hht993ggb28ky2n30hnc80000gn/T/ipykernel_26709/3754537818.py\u001b[0m in \u001b[0;36m<module>\u001b[0;34m\u001b[0m\n\u001b[0;32m----> 1\u001b[0;31m \u001b[0mcd\u001b[0m\u001b[0;34m.\u001b[0m\u001b[0mrequests\u001b[0m\u001b[0;34m(\u001b[0m\u001b[0minit_state\u001b[0m\u001b[0;34m)\u001b[0m\u001b[0;34m\u001b[0m\u001b[0;34m\u001b[0m\u001b[0m\n\u001b[0m",
      "\u001b[0;32m~/Library/Mobile Documents/com~apple~CloudDocs/Vinit/Workspace/repos/github/repos/supercabs/solution/python/Env.py\u001b[0m in \u001b[0;36mrequests\u001b[0;34m(self, state)\u001b[0m\n\u001b[1;32m     87\u001b[0m         Use the table specified in the MDP and complete for rest of the locations\"\"\"\n\u001b[1;32m     88\u001b[0m         \u001b[0mlocation\u001b[0m \u001b[0;34m=\u001b[0m \u001b[0mstate\u001b[0m\u001b[0;34m[\u001b[0m\u001b[0mself\u001b[0m\u001b[0;34m.\u001b[0m\u001b[0mLOCATION_INDEX\u001b[0m\u001b[0;34m]\u001b[0m\u001b[0;34m\u001b[0m\u001b[0;34m\u001b[0m\u001b[0m\n\u001b[0;32m---> 89\u001b[0;31m         \u001b[0mrequests\u001b[0m \u001b[0;34m=\u001b[0m \u001b[0mnp\u001b[0m\u001b[0;34m.\u001b[0m\u001b[0mrandom\u001b[0m\u001b[0;34m.\u001b[0m\u001b[0mpoisson\u001b[0m\u001b[0;34m(\u001b[0m\u001b[0mself\u001b[0m\u001b[0;34m.\u001b[0m\u001b[0maverage_requests\u001b[0m\u001b[0;34m[\u001b[0m\u001b[0mlocation\u001b[0m\u001b[0;34m]\u001b[0m\u001b[0;34m)\u001b[0m\u001b[0;34m\u001b[0m\u001b[0;34m\u001b[0m\u001b[0m\n\u001b[0m\u001b[1;32m     90\u001b[0m \u001b[0;34m\u001b[0m\u001b[0m\n\u001b[1;32m     91\u001b[0m         \u001b[0;32mif\u001b[0m \u001b[0mrequests\u001b[0m \u001b[0;34m>\u001b[0m\u001b[0;36m15\u001b[0m\u001b[0;34m:\u001b[0m\u001b[0;34m\u001b[0m\u001b[0;34m\u001b[0m\u001b[0m\n",
      "\u001b[0;31mNameError\u001b[0m: name 'np' is not defined"
     ]
    }
   ],
   "source": [
    "\n",
    "cd.requests(init_state)"
   ]
  },
  {
   "cell_type": "code",
   "execution_count": null,
   "id": "601f5eca-bceb-4baa-9ca7-ccc30459b528",
   "metadata": {},
   "outputs": [],
   "source": [
    "#Test state_encode_arch1\n",
    "cd.state_encod_arch1(init_state)"
   ]
  },
  {
   "cell_type": "code",
   "execution_count": null,
   "id": "c1285cae-3fe7-45bb-977c-f7966b094247",
   "metadata": {},
   "outputs": [],
   "source": [
    "#Test state_encode_arch2\n",
    "possible_actions = cd.requests(init_state)[1:]\n",
    "possible_actions"
   ]
  },
  {
   "cell_type": "code",
   "execution_count": null,
   "id": "dbf0aa68-64c7-4e8a-8e44-8c271768c5f0",
   "metadata": {},
   "outputs": [],
   "source": [
    "action = possible_actions[0][0]\n",
    "action"
   ]
  },
  {
   "cell_type": "code",
   "execution_count": null,
   "id": "a3e2d37f-9a12-4dc3-b5ad-345731c74c90",
   "metadata": {},
   "outputs": [],
   "source": [
    "#Test state_encode_arch2\n",
    "cd.state_encod_arch2(init_state, action)"
   ]
  },
  {
   "cell_type": "code",
   "execution_count": null,
   "id": "239ddf8c-71ab-4870-9309-a38bee024178",
   "metadata": {},
   "outputs": [],
   "source": [
    "cd.time_matrix[0:3]"
   ]
  },
  {
   "cell_type": "code",
   "execution_count": null,
   "id": "ea6c2dd5-2f05-4ee9-9f21-b954e9025e58",
   "metadata": {},
   "outputs": [],
   "source": [
    "cd.next_state_func(init_state, action)"
   ]
  },
  {
   "cell_type": "code",
   "execution_count": null,
   "id": "e7f1dca8-8502-4c49-bb22-56167debc12f",
   "metadata": {},
   "outputs": [],
   "source": [
    "cd.chargable_time"
   ]
  },
  {
   "cell_type": "code",
   "execution_count": null,
   "id": "a2f14ead-c9c7-4fa2-8a2e-a3b8c00b5d84",
   "metadata": {},
   "outputs": [],
   "source": []
  }
 ],
 "metadata": {
  "kernelspec": {
   "display_name": "Python 3 (ipykernel)",
   "language": "python",
   "name": "python3"
  },
  "language_info": {
   "codemirror_mode": {
    "name": "ipython",
    "version": 3
   },
   "file_extension": ".py",
   "mimetype": "text/x-python",
   "name": "python",
   "nbconvert_exporter": "python",
   "pygments_lexer": "ipython3",
   "version": "3.9.6"
  }
 },
 "nbformat": 4,
 "nbformat_minor": 5
}
