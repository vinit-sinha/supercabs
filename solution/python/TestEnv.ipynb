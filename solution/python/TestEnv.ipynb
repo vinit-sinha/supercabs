{
 "cells": [
  {
   "cell_type": "code",
   "execution_count": 1,
   "id": "a7f7d1c8-ea02-44c1-809c-b151ab45e3d4",
   "metadata": {},
   "outputs": [],
   "source": [
    "from Env import CabDriver"
   ]
  },
  {
   "cell_type": "code",
   "execution_count": 2,
   "id": "4ea11bd7-ac6d-44b6-8ad6-07c20dd3a8a2",
   "metadata": {},
   "outputs": [],
   "source": [
    "cd = CabDriver()"
   ]
  },
  {
   "cell_type": "code",
   "execution_count": 3,
   "id": "dcfb2aed-ca12-46d2-a842-0cc7782235ea",
   "metadata": {},
   "outputs": [],
   "source": [
    "#cd.state_space"
   ]
  },
  {
   "cell_type": "code",
   "execution_count": 4,
   "id": "32500361-29bc-4580-bdbf-91f972eb9fdf",
   "metadata": {},
   "outputs": [
    {
     "data": {
      "text/plain": [
       "(5, 20, 2)"
      ]
     },
     "execution_count": 4,
     "metadata": {},
     "output_type": "execute_result"
    }
   ],
   "source": [
    "init_state = cd.state_init\n",
    "init_state"
   ]
  },
  {
   "cell_type": "code",
   "execution_count": 5,
   "id": "e77c4560-7640-4a9b-81ae-981bc92b9acd",
   "metadata": {},
   "outputs": [
    {
     "data": {
      "text/plain": [
       "([16, 20, 14, 8, 5, 6, 18, 7, 4],\n",
       " [(4, 2),\n",
       "  (5, 1),\n",
       "  (3, 5),\n",
       "  (2, 4),\n",
       "  (2, 1),\n",
       "  (2, 2),\n",
       "  (4, 4),\n",
       "  (2, 3),\n",
       "  (1, 5),\n",
       "  [0, 0]])"
      ]
     },
     "execution_count": 5,
     "metadata": {},
     "output_type": "execute_result"
    }
   ],
   "source": [
    "\n",
    "cd.requests(init_state)"
   ]
  },
  {
   "cell_type": "code",
   "execution_count": 6,
   "id": "601f5eca-bceb-4baa-9ca7-ccc30459b528",
   "metadata": {},
   "outputs": [
    {
     "data": {
      "text/plain": [
       "[0,\n",
       " 0,\n",
       " 0,\n",
       " 0,\n",
       " 0,\n",
       " 1,\n",
       " 0,\n",
       " 0,\n",
       " 0,\n",
       " 0,\n",
       " 0,\n",
       " 0,\n",
       " 0,\n",
       " 0,\n",
       " 0,\n",
       " 0,\n",
       " 0,\n",
       " 0,\n",
       " 0,\n",
       " 0,\n",
       " 0,\n",
       " 0,\n",
       " 0,\n",
       " 0,\n",
       " 0,\n",
       " 1,\n",
       " 0,\n",
       " 0,\n",
       " 0,\n",
       " 0,\n",
       " 0,\n",
       " 1,\n",
       " 0,\n",
       " 0,\n",
       " 0,\n",
       " 0]"
      ]
     },
     "execution_count": 6,
     "metadata": {},
     "output_type": "execute_result"
    }
   ],
   "source": [
    "#Test state_encode_arch1\n",
    "cd.state_encod_arch1(init_state)"
   ]
  },
  {
   "cell_type": "code",
   "execution_count": 7,
   "id": "c1285cae-3fe7-45bb-977c-f7966b094247",
   "metadata": {},
   "outputs": [
    {
     "data": {
      "text/plain": [
       "([(4, 4),\n",
       "  (4, 3),\n",
       "  (5, 1),\n",
       "  (2, 3),\n",
       "  (1, 4),\n",
       "  (4, 5),\n",
       "  (2, 5),\n",
       "  (3, 4),\n",
       "  (4, 2),\n",
       "  (4, 1),\n",
       "  (3, 2),\n",
       "  [0, 0]],)"
      ]
     },
     "execution_count": 7,
     "metadata": {},
     "output_type": "execute_result"
    }
   ],
   "source": [
    "#Test state_encode_arch2\n",
    "possible_actions = cd.requests(init_state)[1:]\n",
    "possible_actions"
   ]
  },
  {
   "cell_type": "code",
   "execution_count": 8,
   "id": "dbf0aa68-64c7-4e8a-8e44-8c271768c5f0",
   "metadata": {},
   "outputs": [
    {
     "data": {
      "text/plain": [
       "(4, 4)"
      ]
     },
     "execution_count": 8,
     "metadata": {},
     "output_type": "execute_result"
    }
   ],
   "source": [
    "action = possible_actions[0][0]\n",
    "action"
   ]
  },
  {
   "cell_type": "code",
   "execution_count": 9,
   "id": "a3e2d37f-9a12-4dc3-b5ad-345731c74c90",
   "metadata": {},
   "outputs": [
    {
     "data": {
      "text/plain": [
       "[0,\n",
       " 0,\n",
       " 0,\n",
       " 0,\n",
       " 0,\n",
       " 1,\n",
       " 0,\n",
       " 0,\n",
       " 0,\n",
       " 0,\n",
       " 0,\n",
       " 0,\n",
       " 0,\n",
       " 0,\n",
       " 0,\n",
       " 0,\n",
       " 0,\n",
       " 0,\n",
       " 0,\n",
       " 0,\n",
       " 0,\n",
       " 0,\n",
       " 0,\n",
       " 0,\n",
       " 0,\n",
       " 1,\n",
       " 0,\n",
       " 0,\n",
       " 0,\n",
       " 0,\n",
       " 0,\n",
       " 1,\n",
       " 0,\n",
       " 0,\n",
       " 0,\n",
       " 0,\n",
       " 0,\n",
       " 0,\n",
       " 0,\n",
       " 0,\n",
       " 1,\n",
       " 0,\n",
       " 0,\n",
       " 0,\n",
       " 0,\n",
       " 1]"
      ]
     },
     "execution_count": 9,
     "metadata": {},
     "output_type": "execute_result"
    }
   ],
   "source": [
    "#Test state_encode_arch2\n",
    "cd.state_encod_arch2(init_state, action)"
   ]
  },
  {
   "cell_type": "code",
   "execution_count": null,
   "id": "6bb5abab-5dbc-40e0-8f55-84f5b237abd1",
   "metadata": {},
   "outputs": [],
   "source": []
  }
 ],
 "metadata": {
  "kernelspec": {
   "display_name": "Python 3 (ipykernel)",
   "language": "python",
   "name": "python3"
  },
  "language_info": {
   "codemirror_mode": {
    "name": "ipython",
    "version": 3
   },
   "file_extension": ".py",
   "mimetype": "text/x-python",
   "name": "python",
   "nbconvert_exporter": "python",
   "pygments_lexer": "ipython3",
   "version": "3.9.6"
  }
 },
 "nbformat": 4,
 "nbformat_minor": 5
}
