{
 "cells": [
  {
   "cell_type": "code",
   "execution_count": 1,
   "id": "a7f7d1c8-ea02-44c1-809c-b151ab45e3d4",
   "metadata": {},
   "outputs": [],
   "source": [
    "from Env import CabDriver"
   ]
  },
  {
   "cell_type": "code",
   "execution_count": 2,
   "id": "4ea11bd7-ac6d-44b6-8ad6-07c20dd3a8a2",
   "metadata": {},
   "outputs": [],
   "source": [
    "cd = CabDriver()"
   ]
  },
  {
   "cell_type": "code",
   "execution_count": 3,
   "id": "dcfb2aed-ca12-46d2-a842-0cc7782235ea",
   "metadata": {},
   "outputs": [],
   "source": [
    "#cd.state_space"
   ]
  },
  {
   "cell_type": "code",
   "execution_count": 4,
   "id": "32500361-29bc-4580-bdbf-91f972eb9fdf",
   "metadata": {},
   "outputs": [
    {
     "data": {
      "text/plain": [
       "(2, 2, 5)"
      ]
     },
     "execution_count": 4,
     "metadata": {},
     "output_type": "execute_result"
    }
   ],
   "source": [
    "init_state = cd.state_init\n",
    "init_state"
   ]
  },
  {
   "cell_type": "code",
   "execution_count": 5,
   "id": "e77c4560-7640-4a9b-81ae-981bc92b9acd",
   "metadata": {},
   "outputs": [
    {
     "data": {
      "text/plain": [
       "([17, 2, 5, 8, 1, 14, 3, 12, 13],\n",
       " [(3, 3),\n",
       "  (0, 3),\n",
       "  (1, 1),\n",
       "  (1, 4),\n",
       "  (0, 2),\n",
       "  (3, 0),\n",
       "  (0, 4),\n",
       "  (2, 3),\n",
       "  (2, 4),\n",
       "  [0, 0]])"
      ]
     },
     "execution_count": 5,
     "metadata": {},
     "output_type": "execute_result"
    }
   ],
   "source": [
    "\n",
    "cd.requests(init_state)"
   ]
  },
  {
   "cell_type": "code",
   "execution_count": 6,
   "id": "601f5eca-bceb-4baa-9ca7-ccc30459b528",
   "metadata": {},
   "outputs": [
    {
     "data": {
      "text/plain": [
       "[0,\n",
       " 0,\n",
       " 1,\n",
       " 0,\n",
       " 0,\n",
       " 0,\n",
       " 0,\n",
       " 1,\n",
       " 0,\n",
       " 0,\n",
       " 0,\n",
       " 0,\n",
       " 0,\n",
       " 0,\n",
       " 0,\n",
       " 0,\n",
       " 0,\n",
       " 0,\n",
       " 0,\n",
       " 0,\n",
       " 0,\n",
       " 0,\n",
       " 0,\n",
       " 0,\n",
       " 0,\n",
       " 0,\n",
       " 0,\n",
       " 0,\n",
       " 0,\n",
       " 0,\n",
       " 0,\n",
       " 0,\n",
       " 0,\n",
       " 0,\n",
       " 1,\n",
       " 0]"
      ]
     },
     "execution_count": 6,
     "metadata": {},
     "output_type": "execute_result"
    }
   ],
   "source": [
    "#Test state_encode_arch1\n",
    "cd.state_encod_arch1(init_state)"
   ]
  },
  {
   "cell_type": "code",
   "execution_count": 7,
   "id": "c1285cae-3fe7-45bb-977c-f7966b094247",
   "metadata": {},
   "outputs": [
    {
     "data": {
      "text/plain": [
       "([(2, 1), (0, 4), (3, 2), (4, 1), (1, 3), (2, 3), [0, 0]],)"
      ]
     },
     "execution_count": 7,
     "metadata": {},
     "output_type": "execute_result"
    }
   ],
   "source": [
    "#Test state_encode_arch2\n",
    "possible_actions = cd.requests(init_state)[1:]\n",
    "possible_actions"
   ]
  },
  {
   "cell_type": "code",
   "execution_count": 8,
   "id": "dbf0aa68-64c7-4e8a-8e44-8c271768c5f0",
   "metadata": {},
   "outputs": [
    {
     "data": {
      "text/plain": [
       "(2, 1)"
      ]
     },
     "execution_count": 8,
     "metadata": {},
     "output_type": "execute_result"
    }
   ],
   "source": [
    "action = possible_actions[0][0]\n",
    "action"
   ]
  },
  {
   "cell_type": "code",
   "execution_count": 9,
   "id": "a3e2d37f-9a12-4dc3-b5ad-345731c74c90",
   "metadata": {},
   "outputs": [
    {
     "data": {
      "text/plain": [
       "[0,\n",
       " 0,\n",
       " 1,\n",
       " 0,\n",
       " 0,\n",
       " 0,\n",
       " 0,\n",
       " 1,\n",
       " 0,\n",
       " 0,\n",
       " 0,\n",
       " 0,\n",
       " 0,\n",
       " 0,\n",
       " 0,\n",
       " 0,\n",
       " 0,\n",
       " 0,\n",
       " 0,\n",
       " 0,\n",
       " 0,\n",
       " 0,\n",
       " 0,\n",
       " 0,\n",
       " 0,\n",
       " 0,\n",
       " 0,\n",
       " 0,\n",
       " 0,\n",
       " 0,\n",
       " 0,\n",
       " 0,\n",
       " 0,\n",
       " 0,\n",
       " 1,\n",
       " 0,\n",
       " 0,\n",
       " 0,\n",
       " 1,\n",
       " 0,\n",
       " 0,\n",
       " 0,\n",
       " 1,\n",
       " 0,\n",
       " 0,\n",
       " 0]"
      ]
     },
     "execution_count": 9,
     "metadata": {},
     "output_type": "execute_result"
    }
   ],
   "source": [
    "#Test state_encode_arch2\n",
    "cd.state_encod_arch2(init_state, action)"
   ]
  },
  {
   "cell_type": "code",
   "execution_count": 10,
   "id": "239ddf8c-71ab-4870-9309-a38bee024178",
   "metadata": {},
   "outputs": [
    {
     "data": {
      "text/plain": [
       "array([[[[ 0.,  0.,  0., ...,  0.,  0.,  0.],\n",
       "         [ 0.,  0.,  0., ...,  0.,  0.,  0.],\n",
       "         [ 0.,  0.,  0., ...,  0.,  0.,  0.],\n",
       "         ...,\n",
       "         [ 0.,  0.,  0., ...,  0.,  0.,  0.],\n",
       "         [ 0.,  0.,  0., ...,  0.,  0.,  0.],\n",
       "         [ 0.,  0.,  0., ...,  0.,  0.,  0.]],\n",
       "\n",
       "        [[ 2.,  3.,  3., ...,  7.,  0.,  6.],\n",
       "         [ 2.,  3.,  3., ...,  7.,  0.,  6.],\n",
       "         [ 2.,  3.,  3., ...,  7.,  0.,  6.],\n",
       "         ...,\n",
       "         [ 2.,  3.,  6., ...,  7.,  4.,  2.],\n",
       "         [ 2.,  3.,  6., ...,  7.,  4.,  2.],\n",
       "         [ 2.,  3.,  6., ...,  7.,  4.,  2.]],\n",
       "\n",
       "        [[ 2.,  6.,  5., ...,  3.,  7.,  7.],\n",
       "         [ 2.,  6.,  5., ...,  3.,  7.,  7.],\n",
       "         [ 2.,  6.,  5., ...,  3.,  7.,  7.],\n",
       "         ...,\n",
       "         [ 6.,  2.,  8., ...,  4.,  5.,  5.],\n",
       "         [ 6.,  2.,  8., ...,  4.,  5.,  5.],\n",
       "         [ 6.,  2.,  8., ...,  4.,  5.,  5.]],\n",
       "\n",
       "        [[10.,  6.,  8., ...,  7.,  4.,  6.],\n",
       "         [10.,  6.,  8., ...,  7.,  4.,  6.],\n",
       "         [10.,  6.,  8., ...,  7.,  4.,  6.],\n",
       "         ...,\n",
       "         [ 0.,  1.,  2., ...,  1.,  3.,  3.],\n",
       "         [ 0.,  1.,  2., ...,  1.,  3.,  3.],\n",
       "         [ 0.,  1.,  2., ...,  1.,  3.,  3.]],\n",
       "\n",
       "        [[ 1.,  1.,  1., ...,  1.,  1.,  1.],\n",
       "         [ 1.,  1.,  1., ...,  1.,  1.,  1.],\n",
       "         [ 1.,  1.,  1., ...,  1.,  1.,  1.],\n",
       "         ...,\n",
       "         [ 6.,  4.,  7., ...,  3.,  1.,  8.],\n",
       "         [ 6.,  4.,  7., ...,  3.,  1.,  8.],\n",
       "         [ 6.,  4.,  7., ...,  3.,  1.,  8.]]],\n",
       "\n",
       "\n",
       "       [[[ 2.,  3.,  3., ...,  7.,  0.,  6.],\n",
       "         [ 2.,  3.,  3., ...,  7.,  0.,  6.],\n",
       "         [ 2.,  3.,  3., ...,  7.,  0.,  6.],\n",
       "         ...,\n",
       "         [ 2.,  3.,  6., ...,  7.,  4.,  2.],\n",
       "         [ 2.,  3.,  6., ...,  7.,  4.,  2.],\n",
       "         [ 2.,  3.,  6., ...,  7.,  4.,  2.]],\n",
       "\n",
       "        [[ 0.,  0.,  0., ...,  0.,  0.,  0.],\n",
       "         [ 0.,  0.,  0., ...,  0.,  0.,  0.],\n",
       "         [ 0.,  0.,  0., ...,  0.,  0.,  0.],\n",
       "         ...,\n",
       "         [ 0.,  0.,  0., ...,  0.,  0.,  0.],\n",
       "         [ 0.,  0.,  0., ...,  0.,  0.,  0.],\n",
       "         [ 0.,  0.,  0., ...,  0.,  0.,  0.]],\n",
       "\n",
       "        [[ 5.,  6.,  5., ...,  7.,  9.,  7.],\n",
       "         [ 5.,  6.,  5., ...,  7.,  9.,  7.],\n",
       "         [ 5.,  6.,  5., ...,  7.,  9.,  7.],\n",
       "         ...,\n",
       "         [ 5., 11.,  7., ..., 10.,  6.,  8.],\n",
       "         [ 5., 11.,  7., ..., 10.,  6.,  8.],\n",
       "         [ 5., 11.,  7., ..., 10.,  6.,  8.]],\n",
       "\n",
       "        [[ 5.,  6.,  5., ...,  5.,  4.,  4.],\n",
       "         [ 5.,  6.,  5., ...,  5.,  4.,  4.],\n",
       "         [ 5.,  6.,  5., ...,  5.,  4.,  4.],\n",
       "         ...,\n",
       "         [ 1.,  2.,  1., ...,  3.,  2.,  0.],\n",
       "         [ 1.,  2.,  1., ...,  3.,  2.,  0.],\n",
       "         [ 1.,  2.,  1., ...,  3.,  2.,  0.]],\n",
       "\n",
       "        [[ 4.,  1.,  4., ...,  3.,  1.,  2.],\n",
       "         [ 4.,  1.,  4., ...,  3.,  1.,  2.],\n",
       "         [ 4.,  1.,  4., ...,  3.,  1.,  2.],\n",
       "         ...,\n",
       "         [ 4.,  0.,  3., ...,  0.,  2.,  3.],\n",
       "         [ 4.,  0.,  3., ...,  0.,  2.,  3.],\n",
       "         [ 4.,  0.,  3., ...,  0.,  2.,  3.]]],\n",
       "\n",
       "\n",
       "       [[[ 2.,  6.,  5., ...,  3.,  7.,  7.],\n",
       "         [ 2.,  6.,  5., ...,  3.,  7.,  7.],\n",
       "         [ 2.,  6.,  5., ...,  3.,  7.,  7.],\n",
       "         ...,\n",
       "         [ 6.,  2.,  8., ...,  4.,  5.,  5.],\n",
       "         [ 6.,  2.,  8., ...,  4.,  5.,  5.],\n",
       "         [ 6.,  2.,  8., ...,  4.,  5.,  5.]],\n",
       "\n",
       "        [[ 5.,  6.,  5., ...,  7.,  9.,  7.],\n",
       "         [ 5.,  6.,  5., ...,  7.,  9.,  7.],\n",
       "         [ 5.,  6.,  5., ...,  7.,  9.,  7.],\n",
       "         ...,\n",
       "         [ 5., 11.,  7., ..., 10.,  6.,  8.],\n",
       "         [ 5., 11.,  7., ..., 10.,  6.,  8.],\n",
       "         [ 5., 11.,  7., ..., 10.,  6.,  8.]],\n",
       "\n",
       "        [[ 0.,  0.,  0., ...,  0.,  0.,  0.],\n",
       "         [ 0.,  0.,  0., ...,  0.,  0.,  0.],\n",
       "         [ 0.,  0.,  0., ...,  0.,  0.,  0.],\n",
       "         ...,\n",
       "         [ 0.,  0.,  0., ...,  0.,  0.,  0.],\n",
       "         [ 0.,  0.,  0., ...,  0.,  0.,  0.],\n",
       "         [ 0.,  0.,  0., ...,  0.,  0.,  0.]],\n",
       "\n",
       "        [[ 6.,  6.,  3., ...,  6., 11.,  9.],\n",
       "         [ 6.,  6.,  3., ...,  6., 11.,  9.],\n",
       "         [ 6.,  6.,  3., ...,  6., 11.,  9.],\n",
       "         ...,\n",
       "         [ 3.,  4.,  4., ...,  6.,  5.,  2.],\n",
       "         [ 3.,  4.,  4., ...,  6.,  5.,  2.],\n",
       "         [ 3.,  4.,  4., ...,  6.,  5.,  2.]],\n",
       "\n",
       "        [[ 1.,  0.,  1., ...,  1.,  0.,  5.],\n",
       "         [ 1.,  0.,  1., ...,  1.,  0.,  5.],\n",
       "         [ 1.,  0.,  1., ...,  1.,  0.,  5.],\n",
       "         ...,\n",
       "         [ 0.,  2.,  2., ...,  0.,  0.,  2.],\n",
       "         [ 0.,  2.,  2., ...,  0.,  0.,  2.],\n",
       "         [ 0.,  2.,  2., ...,  0.,  0.,  2.]]]])"
      ]
     },
     "execution_count": 10,
     "metadata": {},
     "output_type": "execute_result"
    }
   ],
   "source": [
    "cd.time_matrix[0:3]"
   ]
  },
  {
   "cell_type": "code",
   "execution_count": 11,
   "id": "ea6c2dd5-2f05-4ee9-9f21-b954e9025e58",
   "metadata": {},
   "outputs": [
    {
     "data": {
      "text/plain": [
       "[1, 0, 0]"
      ]
     },
     "execution_count": 11,
     "metadata": {},
     "output_type": "execute_result"
    }
   ],
   "source": [
    "cd.next_state_func(init_state, action)"
   ]
  },
  {
   "cell_type": "code",
   "execution_count": 13,
   "id": "e7f1dca8-8502-4c49-bb22-56167debc12f",
   "metadata": {},
   "outputs": [
    {
     "ename": "AttributeError",
     "evalue": "'CabDriver' object has no attribute 'charable_time'",
     "output_type": "error",
     "traceback": [
      "\u001b[0;31m---------------------------------------------------------------------------\u001b[0m",
      "\u001b[0;31mAttributeError\u001b[0m                            Traceback (most recent call last)",
      "\u001b[0;32m/var/folders/4s/8z4hht993ggb28ky2n30hnc80000gn/T/ipykernel_26296/2031877214.py\u001b[0m in \u001b[0;36m<module>\u001b[0;34m\u001b[0m\n\u001b[0;32m----> 1\u001b[0;31m \u001b[0mcd\u001b[0m\u001b[0;34m.\u001b[0m\u001b[0mcharable_time\u001b[0m\u001b[0;34m\u001b[0m\u001b[0;34m\u001b[0m\u001b[0m\n\u001b[0m",
      "\u001b[0;31mAttributeError\u001b[0m: 'CabDriver' object has no attribute 'charable_time'"
     ]
    }
   ],
   "source": [
    "cd.charable_time"
   ]
  },
  {
   "cell_type": "code",
   "execution_count": null,
   "id": "a2f14ead-c9c7-4fa2-8a2e-a3b8c00b5d84",
   "metadata": {},
   "outputs": [],
   "source": []
  }
 ],
 "metadata": {
  "kernelspec": {
   "display_name": "Python 3 (ipykernel)",
   "language": "python",
   "name": "python3"
  },
  "language_info": {
   "codemirror_mode": {
    "name": "ipython",
    "version": 3
   },
   "file_extension": ".py",
   "mimetype": "text/x-python",
   "name": "python",
   "nbconvert_exporter": "python",
   "pygments_lexer": "ipython3",
   "version": "3.9.6"
  }
 },
 "nbformat": 4,
 "nbformat_minor": 5
}
